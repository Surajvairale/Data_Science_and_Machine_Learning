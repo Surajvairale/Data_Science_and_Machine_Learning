{
 "cells": [
  {
   "cell_type": "markdown",
   "id": "983008bc",
   "metadata": {},
   "source": [
    "## Introduction NumPy"
   ]
  },
  {
   "cell_type": "code",
   "execution_count": 1,
   "id": "fd40f2c1",
   "metadata": {},
   "outputs": [
    {
     "name": "stdout",
     "output_type": "stream",
     "text": [
      "Requirement already satisfied: numpy in c:\\users\\suraj\\anaconda3\\lib\\site-packages (1.21.5)\n"
     ]
    }
   ],
   "source": [
    "!pip install numpy"
   ]
  },
  {
   "cell_type": "code",
   "execution_count": 2,
   "id": "690ae0e9",
   "metadata": {},
   "outputs": [],
   "source": [
    "## NumPy : match calculations"
   ]
  },
  {
   "cell_type": "code",
   "execution_count": 3,
   "id": "9d07e3a4",
   "metadata": {},
   "outputs": [
    {
     "data": {
      "text/plain": [
       "list"
      ]
     },
     "execution_count": 3,
     "metadata": {},
     "output_type": "execute_result"
    }
   ],
   "source": [
    "type([1,2,3,4,5])"
   ]
  },
  {
   "cell_type": "code",
   "execution_count": 4,
   "id": "fb5f2259",
   "metadata": {},
   "outputs": [],
   "source": [
    "import numpy as np"
   ]
  },
  {
   "cell_type": "code",
   "execution_count": 5,
   "id": "db5705a9",
   "metadata": {},
   "outputs": [
    {
     "data": {
      "text/plain": [
       "608"
      ]
     },
     "execution_count": 5,
     "metadata": {},
     "output_type": "execute_result"
    }
   ],
   "source": [
    "len(dir(np))"
   ]
  },
  {
   "cell_type": "code",
   "execution_count": 6,
   "id": "9fb5cb7d",
   "metadata": {},
   "outputs": [
    {
     "name": "stdout",
     "output_type": "stream",
     "text": [
      "[1 2 3 4 5]\n"
     ]
    },
    {
     "data": {
      "text/plain": [
       "numpy.ndarray"
      ]
     },
     "execution_count": 6,
     "metadata": {},
     "output_type": "execute_result"
    }
   ],
   "source": [
    "## Numpy array from List\n",
    "\n",
    "arr = np.array([1,2,3,4,5])\n",
    "print(arr)\n",
    "type(arr)"
   ]
  },
  {
   "cell_type": "code",
   "execution_count": 7,
   "id": "a58feeee",
   "metadata": {},
   "outputs": [
    {
     "name": "stdout",
     "output_type": "stream",
     "text": [
      "[1 2 3 4 5]\n",
      "<class 'numpy.ndarray'>\n"
     ]
    }
   ],
   "source": [
    "## Numpy array from tuple\n",
    "\n",
    "arr = np.array((1,2,3,4,5))\n",
    "print(arr)\n",
    "print(type(arr))"
   ]
  },
  {
   "cell_type": "code",
   "execution_count": 8,
   "id": "dbe3a50f",
   "metadata": {},
   "outputs": [
    {
     "name": "stdout",
     "output_type": "stream",
     "text": [
      "{1, 2, 3, 4, 5, 6, 88}\n",
      "<class 'numpy.ndarray'>\n"
     ]
    }
   ],
   "source": [
    "## Numpy array from set\n",
    "\n",
    "arr = np.array({1,2,3,4,5,6,6,88})\n",
    "print(arr)\n",
    "print(type(arr))"
   ]
  },
  {
   "cell_type": "code",
   "execution_count": 9,
   "id": "217e3cc1",
   "metadata": {},
   "outputs": [
    {
     "name": "stdout",
     "output_type": "stream",
     "text": [
      "[1 2 3 4 5]\n",
      "1\n",
      "(5,)\n",
      "5\n",
      "int32\n",
      "4\n"
     ]
    }
   ],
   "source": [
    "# Numpy array : Attributes\n",
    "\n",
    "arr = np.array([1,2,3,4,5])\n",
    "print(arr)\n",
    "print(arr.ndim)#dimension of the array\n",
    "print(arr.shape)\n",
    "print(arr.size)\n",
    "print(arr.dtype)\n",
    "print(arr.itemsize)"
   ]
  },
  {
   "cell_type": "code",
   "execution_count": 10,
   "id": "25f789e3",
   "metadata": {},
   "outputs": [
    {
     "name": "stdout",
     "output_type": "stream",
     "text": [
      "[[  1   2   3   4   5]\n",
      " [ 10  20  30  40  50]\n",
      " [100 200 300 400 500]]\n",
      "2\n",
      "(3, 5)\n",
      "15\n",
      "int32\n",
      "4\n"
     ]
    }
   ],
   "source": [
    "arr = np.array([[1,2,3,4,5],[10,20,30,40,50],[100,200,300,400,500]])\n",
    "print(arr)\n",
    "print(arr.ndim)\n",
    "print(arr.shape)\n",
    "print(arr.size)\n",
    "print(arr.dtype)\n",
    "print(arr.itemsize)"
   ]
  },
  {
   "cell_type": "code",
   "execution_count": 11,
   "id": "abe5e3d1",
   "metadata": {},
   "outputs": [
    {
     "name": "stdout",
     "output_type": "stream",
     "text": [
      "[[[   1    2    3    4    5]\n",
      "  [  10   20   30   40   50]\n",
      "  [ 100  200  300  400  500]\n",
      "  [1000 2000 3000 4000 5000]]]\n",
      "3\n",
      "(1, 4, 5)\n",
      "20\n",
      "int32\n",
      "4\n"
     ]
    }
   ],
   "source": [
    "arr = np.array([[[1,2,3,4,5],[10,20,30,40,50],[100,200,300,400,500],[1000,2000,3000,4000,5000]]])\n",
    "print(arr)\n",
    "print(arr.ndim)\n",
    "print(arr.shape)\n",
    "print(arr.size)\n",
    "print(arr.dtype)\n",
    "print(arr.itemsize)"
   ]
  },
  {
   "cell_type": "code",
   "execution_count": 12,
   "id": "121f0cb2",
   "metadata": {},
   "outputs": [
    {
     "name": "stdout",
     "output_type": "stream",
     "text": [
      "[[1. 1. 1. 1. 1.]\n",
      " [1. 1. 1. 1. 1.]\n",
      " [1. 1. 1. 1. 1.]\n",
      " [1. 1. 1. 1. 1.]\n",
      " [1. 1. 1. 1. 1.]]\n",
      "[[0. 0. 0. 0. 0.]\n",
      " [0. 0. 0. 0. 0.]\n",
      " [0. 0. 0. 0. 0.]\n",
      " [0. 0. 0. 0. 0.]\n",
      " [0. 0. 0. 0. 0.]]\n"
     ]
    }
   ],
   "source": [
    "## Ones() and Zeros()\n",
    "\n",
    "arr = np.ones((5,5))\n",
    "print(arr)\n",
    "\n",
    "arr = np.zeros((5,5))\n",
    "print(arr)"
   ]
  },
  {
   "cell_type": "code",
   "execution_count": 13,
   "id": "cdfbbae5",
   "metadata": {},
   "outputs": [
    {
     "name": "stdout",
     "output_type": "stream",
     "text": [
      "2282355682832\n",
      "2282355682832\n",
      "2282355680816\n",
      "[858585      2      3]\n",
      "[858585      2      3]\n",
      "[1 2 3]\n"
     ]
    }
   ],
   "source": [
    "## copy\n",
    "\n",
    "import numpy as np\n",
    "a = np.array([1,2,3])\n",
    "print(id(a))\n",
    "\n",
    "b = a\n",
    "print(id(b))\n",
    "\n",
    "c = a.copy()\n",
    "print(id(c))\n",
    "\n",
    "a[0] = 858585\n",
    "\n",
    "print(a)\n",
    "print(b)\n",
    "print(c)"
   ]
  },
  {
   "cell_type": "code",
   "execution_count": 14,
   "id": "2420e255",
   "metadata": {},
   "outputs": [
    {
     "name": "stdout",
     "output_type": "stream",
     "text": [
      "[ 0  1  2  3  4  5  6  7  8  9 10 11 12 13 14 15 16 17 18 19]\n"
     ]
    }
   ],
   "source": [
    "# arange\n",
    "import numpy as np\n",
    "arr = np.arange(0,20)\n",
    "print(arr)"
   ]
  },
  {
   "cell_type": "code",
   "execution_count": 15,
   "id": "2778828a",
   "metadata": {},
   "outputs": [
    {
     "name": "stdout",
     "output_type": "stream",
     "text": [
      "[  0  22  44  66  88 110 132 154 176 198 220]\n"
     ]
    }
   ],
   "source": [
    "import numpy as np\n",
    "arr = np.arange(0,222,22)\n",
    "print(arr)"
   ]
  },
  {
   "cell_type": "code",
   "execution_count": 16,
   "id": "8d800546",
   "metadata": {},
   "outputs": [
    {
     "name": "stdout",
     "output_type": "stream",
     "text": [
      "[  0.  25.  50.  75. 100.]\n"
     ]
    }
   ],
   "source": [
    "## Linspace\n",
    "\n",
    "import numpy as np\n",
    "arr = np.linspace(0,100,5)\n",
    "print(arr)"
   ]
  },
  {
   "cell_type": "code",
   "execution_count": 17,
   "id": "b3ff0d4d",
   "metadata": {},
   "outputs": [
    {
     "name": "stdout",
     "output_type": "stream",
     "text": [
      "[11 22 33 44 55]\n",
      "[ -9 -18 -27 -36 -45]\n",
      "[ 10  40  90 160 250]\n",
      "[0.1 0.1 0.1 0.1 0.1]\n",
      "[1 2 3 4 5]\n"
     ]
    }
   ],
   "source": [
    "## Arthmetic operation\n",
    "\n",
    "a = np.array([1,2,3,4,5])\n",
    "b = np.array([10,20,30,40,50])\n",
    "\n",
    "print(a+b)\n",
    "print(a-b)\n",
    "print(a*b)\n",
    "print(a/b)\n",
    "print(a%b)"
   ]
  },
  {
   "cell_type": "code",
   "execution_count": 18,
   "id": "90d88e2d",
   "metadata": {},
   "outputs": [
    {
     "name": "stdout",
     "output_type": "stream",
     "text": [
      "[[0. 1. 2.]\n",
      " [3. 4. 5.]\n",
      " [6. 7. 8.]]\n",
      "[[1. 1. 1.]\n",
      " [1. 1. 1.]\n",
      " [1. 1. 1.]]\n",
      "[[ 3.  3.  3.]\n",
      " [12. 12. 12.]\n",
      " [21. 21. 21.]]\n"
     ]
    }
   ],
   "source": [
    "## Matrix product\n",
    "\n",
    "import numpy as np\n",
    "a = np.arange(0.,9).reshape(3,3)\n",
    "b = np.ones((3,3))\n",
    "\n",
    "print(a)\n",
    "print(b)\n",
    "\n",
    "print(np.dot(a,b))"
   ]
  },
  {
   "cell_type": "code",
   "execution_count": 19,
   "id": "5e8dc500",
   "metadata": {},
   "outputs": [
    {
     "data": {
      "text/plain": [
       "array([[0, 1, 2],\n",
       "       [3, 4, 5],\n",
       "       [6, 7, 8]])"
      ]
     },
     "execution_count": 19,
     "metadata": {},
     "output_type": "execute_result"
    }
   ],
   "source": [
    "np.arange(0,9).reshape(3,3)"
   ]
  },
  {
   "cell_type": "code",
   "execution_count": 20,
   "id": "777131b0",
   "metadata": {},
   "outputs": [
    {
     "name": "stdout",
     "output_type": "stream",
     "text": [
      "[ 4  9 16 25]\n",
      "[2. 3. 4. 5.]\n",
      "[1.38629436 2.19722458 2.77258872 3.21887582]\n"
     ]
    }
   ],
   "source": [
    "## Universal functions\n",
    "\n",
    "import numpy as np\n",
    "arr = np.array([4,9,16,25])\n",
    "\n",
    "print(arr)\n",
    "print(np.sqrt(arr))\n",
    "print(np.log(arr))"
   ]
  },
  {
   "cell_type": "code",
   "execution_count": 21,
   "id": "b086356a",
   "metadata": {},
   "outputs": [
    {
     "name": "stdout",
     "output_type": "stream",
     "text": [
      "54\n",
      "4\n",
      "25\n",
      "13.5\n",
      "7.88986691902975\n"
     ]
    }
   ],
   "source": [
    "print(arr.sum())\n",
    "print(arr.min())\n",
    "print(arr.max())\n",
    "print(arr.mean())\n",
    "print(arr.std())"
   ]
  },
  {
   "cell_type": "code",
   "execution_count": 22,
   "id": "fcb92b0d",
   "metadata": {},
   "outputs": [
    {
     "name": "stdout",
     "output_type": "stream",
     "text": [
      "[[ True False]\n",
      " [ True  True]]\n",
      "[[ True False]]\n"
     ]
    }
   ],
   "source": [
    "## Logical functions\n",
    "arr = np.array([[True , False ],[True , True]])\n",
    "print(arr)\n",
    "\n",
    "#print(np.all([arr], axis = 0))\n",
    "print(np.all([arr], axis = 1))"
   ]
  },
  {
   "cell_type": "code",
   "execution_count": 23,
   "id": "022a4a59",
   "metadata": {},
   "outputs": [
    {
     "name": "stdout",
     "output_type": "stream",
     "text": [
      "[[ True False]\n",
      " [ True  True]]\n",
      "True\n",
      "[[ True  True]]\n"
     ]
    }
   ],
   "source": [
    "arr = np.array([[True , False ],[True , True]])\n",
    "print(arr)\n",
    "\n",
    "print(np.any([arr]))\n",
    "print(np.any([arr], axis = 1))"
   ]
  }
 ],
 "metadata": {
  "kernelspec": {
   "display_name": "Python 3 (ipykernel)",
   "language": "python",
   "name": "python3"
  },
  "language_info": {
   "codemirror_mode": {
    "name": "ipython",
    "version": 3
   },
   "file_extension": ".py",
   "mimetype": "text/x-python",
   "name": "python",
   "nbconvert_exporter": "python",
   "pygments_lexer": "ipython3",
   "version": "3.9.12"
  }
 },
 "nbformat": 4,
 "nbformat_minor": 5
}
