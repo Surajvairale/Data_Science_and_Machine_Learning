{
 "cells": [
  {
   "cell_type": "code",
   "execution_count": 1,
   "id": "72079b29",
   "metadata": {},
   "outputs": [],
   "source": [
    "## comment"
   ]
  },
  {
   "cell_type": "code",
   "execution_count": 2,
   "id": "35ba21de",
   "metadata": {},
   "outputs": [
    {
     "name": "stdout",
     "output_type": "stream",
     "text": [
      "10\n"
     ]
    }
   ],
   "source": [
    "name = 10\n",
    "print(name)"
   ]
  },
  {
   "cell_type": "code",
   "execution_count": 3,
   "id": "f59aa2a8",
   "metadata": {},
   "outputs": [
    {
     "name": "stdout",
     "output_type": "stream",
     "text": [
      "10\n"
     ]
    }
   ],
   "source": [
    "Name = 10\n",
    "print(Name)"
   ]
  },
  {
   "cell_type": "code",
   "execution_count": 4,
   "id": "45a64233",
   "metadata": {},
   "outputs": [
    {
     "name": "stdout",
     "output_type": "stream",
     "text": [
      "10\n"
     ]
    }
   ],
   "source": [
    "_Name = 10\n",
    "print(_Name)"
   ]
  },
  {
   "cell_type": "code",
   "execution_count": 5,
   "id": "e006f7a8",
   "metadata": {},
   "outputs": [
    {
     "name": "stdout",
     "output_type": "stream",
     "text": [
      "10\n"
     ]
    }
   ],
   "source": [
    "N123ame = 10\n",
    "print(N123ame)"
   ]
  },
  {
   "cell_type": "code",
   "execution_count": 6,
   "id": "b0364ea9",
   "metadata": {},
   "outputs": [],
   "source": [
    "## operator in python"
   ]
  },
  {
   "cell_type": "code",
   "execution_count": 7,
   "id": "a8a40fc9",
   "metadata": {},
   "outputs": [],
   "source": [
    "## Arthmetic operators"
   ]
  },
  {
   "cell_type": "code",
   "execution_count": 8,
   "id": "9389c764",
   "metadata": {},
   "outputs": [
    {
     "name": "stdout",
     "output_type": "stream",
     "text": [
      "15\n",
      "3\n",
      "60\n",
      "2.0\n",
      "0\n",
      "100000\n"
     ]
    }
   ],
   "source": [
    "print(10+5)\n",
    "print(10-7)\n",
    "print(10*6)\n",
    "print(10/5)\n",
    "print(10%5)\n",
    "print(10**5)"
   ]
  },
  {
   "cell_type": "code",
   "execution_count": 9,
   "id": "bd71d619",
   "metadata": {},
   "outputs": [
    {
     "name": "stdout",
     "output_type": "stream",
     "text": [
      "10\n",
      "20\n",
      "10\n",
      "100\n",
      "10.0\n",
      "0.0\n"
     ]
    }
   ],
   "source": [
    "## Assignmnet operators\n",
    "a = 10\n",
    "print(a)\n",
    "\n",
    "a += 10\n",
    "print(a)\n",
    "\n",
    "a -= 10\n",
    "print(a)\n",
    "\n",
    "a *= 10\n",
    "print(a)\n",
    "\n",
    "a /= 10\n",
    "print(a)\n",
    "\n",
    "a %= 10\n",
    "print(a)\n"
   ]
  },
  {
   "cell_type": "code",
   "execution_count": 10,
   "id": "309db5db",
   "metadata": {},
   "outputs": [
    {
     "name": "stdout",
     "output_type": "stream",
     "text": [
      "False\n",
      "True\n",
      "False\n",
      "True\n",
      "False\n",
      "True\n"
     ]
    }
   ],
   "source": [
    "##Comparison operators\n",
    "\n",
    "print(10 == 20)\n",
    "print(10!= 20)\n",
    "print(10 > 20)\n",
    "print(10 < 20)\n",
    "print(10 >= 20)\n",
    "print(10 <= 20)"
   ]
  },
  {
   "cell_type": "code",
   "execution_count": 11,
   "id": "56d821a7",
   "metadata": {},
   "outputs": [
    {
     "name": "stdout",
     "output_type": "stream",
     "text": [
      "True\n",
      "True\n",
      "False\n"
     ]
    }
   ],
   "source": [
    "## Operators\n",
    "\n",
    "## Logical ( and , or , not )\n",
    "\n",
    "print(10 < 50 and 20 <100)\n",
    "print(10 < 50 or 20 < 100)\n",
    "print(not(10<50))"
   ]
  },
  {
   "cell_type": "code",
   "execution_count": 12,
   "id": "8d544ad7",
   "metadata": {},
   "outputs": [
    {
     "name": "stdout",
     "output_type": "stream",
     "text": [
      "1423350917712\n",
      "1423350917712\n",
      "<class 'list'>\n",
      "[10]\n",
      "False\n",
      "False\n",
      "True\n",
      "True\n",
      "1423434607616\n",
      "1423434607680\n",
      "1423434607616\n"
     ]
    }
   ],
   "source": [
    "## Identify : Check if they are same object or not - Memory Location\n",
    "a = 10\n",
    "print(id(a))\n",
    "\n",
    "b = 10\n",
    "print(id(b))\n",
    "\n",
    "a =[10]\n",
    "print(type(a))\n",
    "c = a.copy()\n",
    "print(c)\n",
    "\n",
    "print(a is b)\n",
    "print(a is c)\n",
    "\n",
    "a = [1,2,3]\n",
    "b = [1,2,3]\n",
    "c = a\n",
    "print(a is c)\n",
    "\n",
    "print((a==b))\n",
    "\n",
    "print(id(a))\n",
    "print(id(b))\n",
    "print(id(c))\n"
   ]
  },
  {
   "cell_type": "code",
   "execution_count": 13,
   "id": "f12463c0",
   "metadata": {},
   "outputs": [
    {
     "name": "stdout",
     "output_type": "stream",
     "text": [
      "True\n",
      "False\n"
     ]
    }
   ],
   "source": [
    "## Membership\n",
    "\n",
    "a = [1,2,3,4,5,7,8]\n",
    "\n",
    "print(3 in a)\n",
    "print(3 not in a)"
   ]
  },
  {
   "cell_type": "code",
   "execution_count": 14,
   "id": "a492ae24",
   "metadata": {},
   "outputs": [
    {
     "name": "stdout",
     "output_type": "stream",
     "text": [
      "123\n"
     ]
    }
   ],
   "source": [
    "## variables\n",
    "\n",
    "a = 10\n",
    "suraj =100\n",
    "alex = 999\n",
    "lola = 123\n",
    "print(lola)"
   ]
  },
  {
   "cell_type": "code",
   "execution_count": 15,
   "id": "baf1cfd6",
   "metadata": {},
   "outputs": [
    {
     "name": "stdout",
     "output_type": "stream",
     "text": [
      "<class 'int'>\n",
      "<class 'float'>\n",
      "<class 'complex'>\n"
     ]
    }
   ],
   "source": [
    "## Number\n",
    "print(type(10))\n",
    "print(type(10.23))\n",
    "print(type(123j))"
   ]
  },
  {
   "cell_type": "code",
   "execution_count": 16,
   "id": "1d53ed8e",
   "metadata": {},
   "outputs": [
    {
     "name": "stdout",
     "output_type": "stream",
     "text": [
      "<class 'str'>\n"
     ]
    }
   ],
   "source": [
    "## String : Anything with in double and single qoutes\n",
    "print(type(\"alex\"))"
   ]
  },
  {
   "cell_type": "code",
   "execution_count": 17,
   "id": "b2a97f55",
   "metadata": {},
   "outputs": [
    {
     "name": "stdout",
     "output_type": "stream",
     "text": [
      "<class 'int'>\n",
      "<class 'float'>\n",
      "<class 'str'>\n"
     ]
    }
   ],
   "source": [
    "a = 10\n",
    "b = 12.88\n",
    "c = \"alex\"\n",
    "\n",
    "print(type(a))\n",
    "print(type(b))\n",
    "print(type(c))"
   ]
  },
  {
   "cell_type": "code",
   "execution_count": 18,
   "id": "092efb42",
   "metadata": {},
   "outputs": [
    {
     "name": "stdout",
     "output_type": "stream",
     "text": [
      "<class 'list'>\n"
     ]
    }
   ],
   "source": [
    "## List : Mutable Collection of Object\n",
    "\n",
    "a = [1,2,3]\n",
    "print(type(a))"
   ]
  },
  {
   "cell_type": "code",
   "execution_count": 19,
   "id": "ee71ab5f",
   "metadata": {},
   "outputs": [
    {
     "name": "stdout",
     "output_type": "stream",
     "text": [
      "<class 'tuple'>\n"
     ]
    }
   ],
   "source": [
    "## Tuple : immutable\n",
    "\n",
    "a = (1,2,3)\n",
    "print(type(a))"
   ]
  },
  {
   "cell_type": "code",
   "execution_count": 20,
   "id": "5ced51e8",
   "metadata": {},
   "outputs": [
    {
     "name": "stdout",
     "output_type": "stream",
     "text": [
      "{1, 2, 3, 4, 5, 6, 7, 8, 9, 10, 20}\n",
      "<class 'set'>\n"
     ]
    }
   ],
   "source": [
    "## Set : Unordered and no duplicates :Immutable : no indexing\n",
    "a = {10,20,1,2,3,4,5,6,7,8,9,4,4,4,4}\n",
    "print(a)\n",
    "print(type(a))\n"
   ]
  },
  {
   "cell_type": "code",
   "execution_count": 21,
   "id": "4d987181",
   "metadata": {},
   "outputs": [
    {
     "name": "stdout",
     "output_type": "stream",
     "text": [
      "<class 'dict'>\n",
      "dict_keys(['a', 'b', 'c'])\n",
      "dict_values([10, 20, 30])\n"
     ]
    }
   ],
   "source": [
    "## Dictionary : key value pair\n",
    "\n",
    "a = {'a':10,'b':20,'c':30}\n",
    "print(type(a))\n",
    "print(a.keys())\n",
    "print(a.values())"
   ]
  },
  {
   "cell_type": "code",
   "execution_count": 22,
   "id": "6b2146c7",
   "metadata": {},
   "outputs": [
    {
     "name": "stdout",
     "output_type": "stream",
     "text": [
      "['I', 'N', 'D']\n",
      "['D', 'I', 'A']\n",
      "['N', 'D', 'I', 'A', 'N']\n",
      "['N', 'D', 'I']\n"
     ]
    }
   ],
   "source": [
    "## Indexing\n",
    "\n",
    "a = ['I','N','D','I','A','N']\n",
    "\n",
    "#IND\n",
    "print(a[ :3])\n",
    "\n",
    "#DIA\n",
    "print(a[2:5])\n",
    "\n",
    "#NDIAN\n",
    "print(a[1:])\n",
    "\n",
    "#NDI\n",
    "print(a[1:4])"
   ]
  },
  {
   "cell_type": "code",
   "execution_count": 23,
   "id": "a6ccf95b",
   "metadata": {},
   "outputs": [
    {
     "name": "stdout",
     "output_type": "stream",
     "text": [
      "X lesser than 100\n"
     ]
    }
   ],
   "source": [
    "## Control flow in Python\n",
    "\n",
    "## If condition\n",
    "\n",
    "x = 10\n",
    "\n",
    "if x >= 100:\n",
    "    print(\" X greater than 100\")\n",
    "else:\n",
    "    print(\"X lesser than 100\")"
   ]
  },
  {
   "cell_type": "code",
   "execution_count": 24,
   "id": "55c15c42",
   "metadata": {},
   "outputs": [
    {
     "name": "stdout",
     "output_type": "stream",
     "text": [
      "X is Greater than 100\n"
     ]
    }
   ],
   "source": [
    "## if , elif and else - check if x >= 50 and <=100\n",
    "\n",
    "x = 110\n",
    "\n",
    "if x <=50:\n",
    "    print(\"X Greater than 50\")\n",
    "    \n",
    "elif x <= 75:\n",
    "    print(\"X is less than 75\")\n",
    "    \n",
    "elif x <= 100:\n",
    "    print(\" X is less than 100\")\n",
    "    \n",
    "else:\n",
    "    print(\"X is Greater than 100\")"
   ]
  },
  {
   "cell_type": "code",
   "execution_count": 25,
   "id": "e19972db",
   "metadata": {},
   "outputs": [
    {
     "name": "stdout",
     "output_type": "stream",
     "text": [
      "1\n",
      "2\n",
      "3\n",
      "4\n",
      "5\n",
      "6\n",
      "7\n",
      "8\n",
      "9\n",
      "10\n"
     ]
    }
   ],
   "source": [
    "## For loop : it will iterate through a object\n",
    "\n",
    "x = [1,2,3,4,5,6,7,8,9,10]\n",
    "\n",
    "for i in x:\n",
    "    print(i)\n",
    "    \n"
   ]
  },
  {
   "cell_type": "code",
   "execution_count": 26,
   "id": "18c99209",
   "metadata": {},
   "outputs": [
    {
     "name": "stdout",
     "output_type": "stream",
     "text": [
      "1 X  999= 999\n",
      "2 X  999= 1998\n",
      "3 X  999= 2997\n",
      "4 X  999= 3996\n",
      "5 X  999= 4995\n",
      "6 X  999= 5994\n",
      "7 X  999= 6993\n",
      "8 X  999= 7992\n",
      "9 X  999= 8991\n",
      "10 X  999= 9990\n"
     ]
    }
   ],
   "source": [
    "x = [1,2,3,4,5,6,7,8,9,10]\n",
    "\n",
    "for i in x:\n",
    "    print(i , 'X ', '999=',i*999)"
   ]
  },
  {
   "cell_type": "code",
   "execution_count": 27,
   "id": "b1b70760",
   "metadata": {},
   "outputs": [
    {
     "name": "stdout",
     "output_type": "stream",
     "text": [
      "1 x  12= 12\n",
      "2 x  12= 24\n",
      "3 x  12= 36\n",
      "4 x  12= 48\n",
      "5 x  12= 60\n",
      "6 x  12= 72\n",
      "7 x  12= 84\n",
      "8 x  12= 96\n",
      "9 x  12= 108\n",
      "10 x  12= 120\n"
     ]
    }
   ],
   "source": [
    "x = [1,2,3,4,5,6,7,8,9,10]\n",
    "\n",
    "for i in x:\n",
    "    print(i , 'x ', '12=',i*12)"
   ]
  },
  {
   "cell_type": "code",
   "execution_count": 28,
   "id": "a79bdea3",
   "metadata": {},
   "outputs": [
    {
     "name": "stdout",
     "output_type": "stream",
     "text": [
      "1\n",
      "2\n",
      "3\n",
      "4\n",
      "5\n",
      "6\n",
      "7\n",
      "8\n",
      "9\n",
      "10\n"
     ]
    }
   ],
   "source": [
    "## While loop : Run as long as the condition is true\n",
    "\n",
    "x = 1\n",
    "\n",
    "while x <= 10:\n",
    "    print(x)\n",
    "    \n",
    "    x = x+1"
   ]
  },
  {
   "cell_type": "code",
   "execution_count": 29,
   "id": "6558bbf6",
   "metadata": {},
   "outputs": [
    {
     "name": "stdout",
     "output_type": "stream",
     "text": [
      "2\n",
      "4\n",
      "6\n",
      "8\n",
      "10\n"
     ]
    }
   ],
   "source": [
    "## First 5 even numbers\n",
    "x = [1,2,3,4,5,6,7,8,9,10,11]\n",
    "\n",
    "for i in x:\n",
    "    if i % 2 == 0:\n",
    "        print(i)"
   ]
  },
  {
   "cell_type": "code",
   "execution_count": 30,
   "id": "facea12d",
   "metadata": {},
   "outputs": [
    {
     "name": "stdout",
     "output_type": "stream",
     "text": [
      "1\n",
      "2\n",
      "3\n",
      "4\n",
      "5\n",
      "6\n",
      "7\n",
      "8\n"
     ]
    }
   ],
   "source": [
    "## Break \n",
    "\n",
    "x = [1,2,3,4,5,6,7,8,9,10]\n",
    "\n",
    "for i in x:\n",
    "    print(i)\n",
    "    if i == 8:\n",
    "        break\n",
    "        print(\"This is break condition\")\n",
    "    "
   ]
  },
  {
   "cell_type": "code",
   "execution_count": 31,
   "id": "21d90669",
   "metadata": {},
   "outputs": [
    {
     "name": "stdout",
     "output_type": "stream",
     "text": [
      "1\n",
      "2\n",
      "3\n",
      "4\n",
      "5\n",
      "6\n",
      "7\n",
      "8\n",
      "this is running........warning \n",
      "9\n",
      "100\n"
     ]
    }
   ],
   "source": [
    "## continue\n",
    "\n",
    "x = [1,2,3,4,5,6,7,8,9,100]\n",
    "\n",
    "for i in x :\n",
    "    print(i)\n",
    "    if i != 8:\n",
    "        continue\n",
    "    print(\"this is running........warning \")"
   ]
  },
  {
   "cell_type": "code",
   "execution_count": 32,
   "id": "cd84ccb1",
   "metadata": {},
   "outputs": [],
   "source": [
    "## pass\\\n",
    "\n",
    "x = [1,2,3,4,5,6,7,8,9,100]\n",
    "\n",
    "def Futuredev():\n",
    "    pass"
   ]
  },
  {
   "cell_type": "code",
   "execution_count": 33,
   "id": "2e9cf56b",
   "metadata": {},
   "outputs": [],
   "source": [
    "## Function In python\n",
    "\n",
    "def function(args):\n",
    "    print(args* 10)\n",
    "    "
   ]
  },
  {
   "cell_type": "code",
   "execution_count": 34,
   "id": "fcf5d646",
   "metadata": {},
   "outputs": [
    {
     "name": "stdout",
     "output_type": "stream",
     "text": [
      "30\n"
     ]
    }
   ],
   "source": [
    "function(3)"
   ]
  },
  {
   "cell_type": "code",
   "execution_count": 35,
   "id": "ddf6b2e8",
   "metadata": {},
   "outputs": [],
   "source": [
    "def sm (a,b):\n",
    "    \"\"\"This Is Just Comment\"\"\"\n",
    "    smm = a+b\n",
    "    return(smm)"
   ]
  },
  {
   "cell_type": "code",
   "execution_count": 36,
   "id": "59748fec",
   "metadata": {},
   "outputs": [
    {
     "data": {
      "text/plain": [
       "100"
      ]
     },
     "execution_count": 36,
     "metadata": {},
     "output_type": "execute_result"
    }
   ],
   "source": [
    "sm(10,90)"
   ]
  },
  {
   "cell_type": "code",
   "execution_count": 37,
   "id": "84b36bba",
   "metadata": {},
   "outputs": [],
   "source": [
    "## Function to print \" Welcome to Python\"\n",
    "def wcp():\n",
    "    print(\"WELCOME TO Python\")"
   ]
  },
  {
   "cell_type": "code",
   "execution_count": 38,
   "id": "aedd955a",
   "metadata": {},
   "outputs": [
    {
     "name": "stdout",
     "output_type": "stream",
     "text": [
      "WELCOME TO Python\n"
     ]
    }
   ],
   "source": [
    "wcp()"
   ]
  },
  {
   "cell_type": "code",
   "execution_count": 39,
   "id": "9699e43b",
   "metadata": {},
   "outputs": [],
   "source": [
    "## Function to find the difference of 2 number and print the difference\n",
    "\n",
    "def dn(a,b):\n",
    "    diffnum = a - b\n",
    "    print(\"The Difference between number is \", diffnum)\n",
    "    \n",
    "    "
   ]
  },
  {
   "cell_type": "code",
   "execution_count": 40,
   "id": "4a7fce0c",
   "metadata": {},
   "outputs": [
    {
     "name": "stdout",
     "output_type": "stream",
     "text": [
      "The Difference between number is  8\n"
     ]
    }
   ],
   "source": [
    "dn(10,2)"
   ]
  },
  {
   "cell_type": "code",
   "execution_count": 41,
   "id": "a59b93c8",
   "metadata": {},
   "outputs": [],
   "source": [
    "## range function : Generate sequence of number from  a list\n",
    "##range(start,stop,step)"
   ]
  },
  {
   "cell_type": "code",
   "execution_count": 42,
   "id": "eab2a236",
   "metadata": {},
   "outputs": [
    {
     "data": {
      "text/plain": [
       "[0, 1, 2, 3, 4, 5, 6, 7, 8, 9]"
      ]
     },
     "execution_count": 42,
     "metadata": {},
     "output_type": "execute_result"
    }
   ],
   "source": [
    "\n",
    "\n",
    "list(range(0,10,1))"
   ]
  },
  {
   "cell_type": "code",
   "execution_count": 43,
   "id": "e6207d8a",
   "metadata": {},
   "outputs": [
    {
     "data": {
      "text/plain": [
       "[0, 5, 10, 15, 20, 25, 30, 35, 40, 45, 50]"
      ]
     },
     "execution_count": 43,
     "metadata": {},
     "output_type": "execute_result"
    }
   ],
   "source": [
    "list(range(0,51,5))"
   ]
  },
  {
   "cell_type": "code",
   "execution_count": 44,
   "id": "7d72909f",
   "metadata": {},
   "outputs": [],
   "source": [
    "## Global variables\n",
    "\n",
    "a = 50 \n",
    "def number():\n",
    "    b = 30\n",
    "    print(b)\n",
    "    print(a)"
   ]
  },
  {
   "cell_type": "code",
   "execution_count": 45,
   "id": "4217894d",
   "metadata": {},
   "outputs": [
    {
     "name": "stdout",
     "output_type": "stream",
     "text": [
      "30\n",
      "50\n"
     ]
    }
   ],
   "source": [
    "number()"
   ]
  },
  {
   "cell_type": "code",
   "execution_count": 46,
   "id": "cd6e0013",
   "metadata": {},
   "outputs": [],
   "source": [
    "## local variables\n",
    "\n",
    "a = 50\n",
    "def number():\n",
    "    b = 30\n",
    "    print(b)\n",
    "    print(b)"
   ]
  },
  {
   "cell_type": "code",
   "execution_count": 47,
   "id": "0c30087a",
   "metadata": {},
   "outputs": [
    {
     "name": "stdout",
     "output_type": "stream",
     "text": [
      "30\n",
      "30\n"
     ]
    }
   ],
   "source": [
    "number()"
   ]
  },
  {
   "cell_type": "code",
   "execution_count": 48,
   "id": "da216083",
   "metadata": {},
   "outputs": [],
   "source": [
    "## Lambda function - Doesnot have name - anonymous\n",
    "\n",
    "def add(a,b):\n",
    "    return(a+b)\n"
   ]
  },
  {
   "cell_type": "code",
   "execution_count": 49,
   "id": "84c2ede1",
   "metadata": {},
   "outputs": [
    {
     "data": {
      "text/plain": [
       "30"
      ]
     },
     "execution_count": 49,
     "metadata": {},
     "output_type": "execute_result"
    }
   ],
   "source": [
    "add(10,20)"
   ]
  },
  {
   "cell_type": "code",
   "execution_count": 50,
   "id": "b8d5e7aa",
   "metadata": {},
   "outputs": [],
   "source": [
    "ad = lambda a,b: a+b"
   ]
  },
  {
   "cell_type": "code",
   "execution_count": 51,
   "id": "56ae5d43",
   "metadata": {},
   "outputs": [
    {
     "data": {
      "text/plain": [
       "30"
      ]
     },
     "execution_count": 51,
     "metadata": {},
     "output_type": "execute_result"
    }
   ],
   "source": [
    "ad(10,20)"
   ]
  },
  {
   "cell_type": "code",
   "execution_count": 52,
   "id": "4b02663e",
   "metadata": {},
   "outputs": [
    {
     "data": {
      "text/plain": [
       "[30, -10, 200]"
      ]
     },
     "execution_count": 52,
     "metadata": {},
     "output_type": "execute_result"
    }
   ],
   "source": [
    "ml = lambda a,b: [(a+b),(a-b),(a*b)]\n",
    "ml(10,20)"
   ]
  },
  {
   "cell_type": "code",
   "execution_count": 53,
   "id": "5a80c015",
   "metadata": {},
   "outputs": [],
   "source": [
    "## Bluit in functions ,package and Modules.\n",
    "\n",
    "## sys Module\n",
    "## modules - sys, os , Math, datetime , Random\n",
    "\n"
   ]
  },
  {
   "cell_type": "code",
   "execution_count": 54,
   "id": "d536c489",
   "metadata": {},
   "outputs": [
    {
     "name": "stdout",
     "output_type": "stream",
     "text": [
      "3.9.12 (main, Apr  4 2022, 05:22:27) [MSC v.1916 64 bit (AMD64)]\n",
      "['C:\\\\Users\\\\suraj\\\\anaconda3\\\\lib\\\\site-packages\\\\ipykernel_launcher.py', '-f', 'C:\\\\Users\\\\suraj\\\\AppData\\\\Roaming\\\\jupyter\\\\runtime\\\\kernel-26c3dc74-eb69-429b-98f3-ac656ca5e3b2.json']\n"
     ]
    }
   ],
   "source": [
    "import sys\n",
    "\n",
    "print(sys.version)\n",
    "print(sys.argv)"
   ]
  },
  {
   "cell_type": "code",
   "execution_count": 55,
   "id": "10b45b02",
   "metadata": {},
   "outputs": [
    {
     "name": "stdout",
     "output_type": "stream",
     "text": [
      "C:\\Users\\suraj\\PythonTest\n",
      "nt\n",
      "environ({'ACSVCPORT': '17532', 'ALLUSERSPROFILE': 'C:\\\\ProgramData', 'APPDATA': 'C:\\\\Users\\\\suraj\\\\AppData\\\\Roaming', 'COMMONPROGRAMFILES': 'C:\\\\Program Files\\\\Common Files', 'COMMONPROGRAMFILES(X86)': 'C:\\\\Program Files (x86)\\\\Common Files', 'COMMONPROGRAMW6432': 'C:\\\\Program Files\\\\Common Files', 'COMPUTERNAME': 'ALEX', 'COMSPEC': 'C:\\\\WINDOWS\\\\system32\\\\cmd.exe', 'DRIVERDATA': 'C:\\\\Windows\\\\System32\\\\Drivers\\\\DriverData', 'FPS_BROWSER_APP_PROFILE_STRING': 'Internet Explorer', 'FPS_BROWSER_USER_PROFILE_STRING': 'Default', 'HOMEDRIVE': 'C:', 'HOMEPATH': '\\\\Users\\\\suraj', 'JAVA_HOME': 'C:\\\\Program Files\\\\Java\\\\jdk1.8.0_202', 'LOCALAPPDATA': 'C:\\\\Users\\\\suraj\\\\AppData\\\\Local', 'LOGONSERVER': '\\\\\\\\ALEX', 'MAVEN_HOME': 'C:\\\\Program Files\\\\apache-maven-3.8.3-bin\\\\apache-maven-3.8.3', 'NUMBER_OF_PROCESSORS': '16', 'ONEDRIVE': 'C:\\\\Users\\\\suraj\\\\OneDrive', 'OS': 'Windows_NT', 'PATH': 'C:\\\\Users\\\\suraj\\\\anaconda3;C:\\\\Users\\\\suraj\\\\anaconda3\\\\Library\\\\mingw-w64\\\\bin;C:\\\\Users\\\\suraj\\\\anaconda3\\\\Library\\\\usr\\\\bin;C:\\\\Users\\\\suraj\\\\anaconda3\\\\Library\\\\bin;C:\\\\Users\\\\suraj\\\\anaconda3\\\\Scripts;\"C:\\\\Program Files (x86)\\\\Common Files\\\\Oracle\\\\Java\\\\javapathC:\\\\Program Files\\\\Java\\\\jdk1.8.0_202\\\\bin;\";C:\\\\Windows\\\\system32;C:\\\\Windows;C:\\\\Windows\\\\System32\\\\Wbem;C:\\\\Windows\\\\System32\\\\WindowsPowerShell\\\\v1.0\\\\;C:\\\\Windows\\\\System32\\\\OpenSSH\\\\;C:\\\\Program Files (x86)\\\\NVIDIA Corporation\\\\PhysX\\\\Common;C:\\\\Program Files\\\\NVIDIA Corporation\\\\NVIDIA NvDLISR;C:\\\\WINDOWS\\\\system32;C:\\\\WINDOWS;C:\\\\WINDOWS\\\\System32\\\\Wbem;C:\\\\WINDOWS\\\\System32\\\\WindowsPowerShell\\\\v1.0\\\\;C:\\\\WINDOWS\\\\System32\\\\OpenSSH\\\\;C:\\\\Program Files\\\\Java\\\\jdk1.8.0_202\\\\bin;C:\\\\Program Files\\\\apache-maven-3.8.3-bin\\\\apache-maven-3.8.3\\\\bin;C:\\\\Program Files\\\\Git\\\\cmd;C:\\\\Users\\\\suraj\\\\anaconda3;C:\\\\Users\\\\suraj\\\\anaconda3\\\\Library\\\\mingw-w64\\\\bin;C:\\\\Users\\\\suraj\\\\anaconda3\\\\Library\\\\usr\\\\bin;C:\\\\Users\\\\suraj\\\\anaconda3\\\\Library\\\\bin;C:\\\\Users\\\\suraj\\\\anaconda3\\\\Scripts;C:\\\\Users\\\\suraj\\\\miniconda3;C:\\\\Users\\\\suraj\\\\miniconda3\\\\Library\\\\mingw-w64\\\\bin;C:\\\\Users\\\\suraj\\\\miniconda3\\\\Library\\\\usr\\\\bin;C:\\\\Users\\\\suraj\\\\miniconda3\\\\Library\\\\bin;C:\\\\Users\\\\suraj\\\\miniconda3\\\\Scripts;C:\\\\Users\\\\suraj\\\\AppData\\\\Local\\\\Programs\\\\Python\\\\Python310\\\\Scripts\\\\;C:\\\\Users\\\\suraj\\\\AppData\\\\Local\\\\Programs\\\\Python\\\\Python310\\\\;C:\\\\Users\\\\suraj\\\\AppData\\\\Local\\\\Programs\\\\Microsoft VS Code\\\\bin', 'PATHEXT': '.COM;.EXE;.BAT;.CMD;.VBS;.VBE;.JS;.JSE;.WSF;.WSH;.MSC', 'PROCESSOR_ARCHITECTURE': 'AMD64', 'PROCESSOR_IDENTIFIER': 'AMD64 Family 25 Model 80 Stepping 0, AuthenticAMD', 'PROCESSOR_LEVEL': '25', 'PROCESSOR_REVISION': '5000', 'PROGRAMDATA': 'C:\\\\ProgramData', 'PROGRAMFILES': 'C:\\\\Program Files', 'PROGRAMFILES(X86)': 'C:\\\\Program Files (x86)', 'PROGRAMW6432': 'C:\\\\Program Files', 'PSMODULEPATH': 'C:\\\\Program Files\\\\WindowsPowerShell\\\\Modules;C:\\\\WINDOWS\\\\system32\\\\WindowsPowerShell\\\\v1.0\\\\Modules', 'PUBLIC': 'C:\\\\Users\\\\Public', 'SESSIONNAME': 'Console', 'SYSTEMDRIVE': 'C:', 'SYSTEMROOT': 'C:\\\\WINDOWS', 'TEMP': 'C:\\\\Users\\\\suraj\\\\AppData\\\\Local\\\\Temp', 'TMP': 'C:\\\\Users\\\\suraj\\\\AppData\\\\Local\\\\Temp', 'USERDOMAIN': 'ALEX', 'USERDOMAIN_ROAMINGPROFILE': 'ALEX', 'USERNAME': 'suraj', 'USERPROFILE': 'C:\\\\Users\\\\suraj', 'WINDIR': 'C:\\\\WINDOWS', 'CONDA_PREFIX': 'C:\\\\Users\\\\suraj\\\\anaconda3', 'PYDEVD_USE_FRAME_EVAL': 'NO', 'JPY_INTERRUPT_EVENT': '632', 'IPY_INTERRUPT_EVENT': '632', 'JPY_PARENT_PID': '3856', 'TERM': 'xterm-color', 'CLICOLOR': '1', 'PAGER': 'cat', 'GIT_PAGER': 'cat', 'MPLBACKEND': 'module://matplotlib_inline.backend_inline'})\n"
     ]
    }
   ],
   "source": [
    "## os\n",
    "import os\n",
    "\n",
    "print(os.getcwd())\n",
    "\n",
    "## os.chidr(\"ADDRESS\") - change directly\n",
    "print(os.name)\n",
    "print(os.environ)"
   ]
  },
  {
   "cell_type": "code",
   "execution_count": 56,
   "id": "a2b1d466",
   "metadata": {},
   "outputs": [
    {
     "name": "stdout",
     "output_type": "stream",
     "text": [
      "2022-06-15 12:45:50.684092\n"
     ]
    }
   ],
   "source": [
    "# DAtetime\n",
    "import datetime\n",
    "from datetime import datetime\n",
    "\n",
    "##print(datetime.time())\n",
    "print(datetime.now())"
   ]
  },
  {
   "cell_type": "code",
   "execution_count": 57,
   "id": "c0fb6917",
   "metadata": {},
   "outputs": [
    {
     "name": "stdout",
     "output_type": "stream",
     "text": [
      "8000\n"
     ]
    }
   ],
   "source": [
    "import random\n",
    "\n",
    "print(random.randrange(0,9999,20))"
   ]
  },
  {
   "cell_type": "code",
   "execution_count": null,
   "id": "1d6e6b16",
   "metadata": {},
   "outputs": [],
   "source": []
  }
 ],
 "metadata": {
  "kernelspec": {
   "display_name": "Python 3 (ipykernel)",
   "language": "python",
   "name": "python3"
  },
  "language_info": {
   "codemirror_mode": {
    "name": "ipython",
    "version": 3
   },
   "file_extension": ".py",
   "mimetype": "text/x-python",
   "name": "python",
   "nbconvert_exporter": "python",
   "pygments_lexer": "ipython3",
   "version": "3.9.12"
  }
 },
 "nbformat": 4,
 "nbformat_minor": 5
}
